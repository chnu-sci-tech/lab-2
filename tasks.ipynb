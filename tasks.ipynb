{
 "cells": [
  {
   "cell_type": "markdown",
   "metadata": {},
   "source": [
    "# Tasks for laboratory assignment 2"
   ]
  },
  {
   "cell_type": "code",
   "execution_count": null,
   "metadata": {},
   "outputs": [],
   "source": [
    "# imports section\n",
    "\n",
    "import pandas as pd\n",
    "import numpy as np\n",
    "import string\n",
    "from nltk.corpus import stopwords\n",
    "from nltk.tokenize import word_tokenize, sent_tokenize\n",
    "from nltk.stem import PorterStemmer, WordNetLemmatizer\n",
    "from autocorrect import Speller\n",
    "import nltk\n",
    "from wordcloud import WordCloud\n",
    "\n",
    "import gensim as gs\n",
    "from gensim.test.utils import lee_corpus_list\n",
    "from gensim.models import Word2Vec\n",
    "import gensim.downloader as api\n",
    "\n",
    "import matplotlib.pyplot as plt\n",
    "\n",
    "# Download the necessary resources\n",
    "nltk.download('punkt')\n",
    "nltk.download('wordnet')\n"
   ]
  },
  {
   "cell_type": "markdown",
   "metadata": {},
   "source": [
    "## Extract data from the json file \n",
    "\n",
    "Write a script, that would extract all the the data from the json file and return it in a list of texts for further use in the next tasks"
   ]
  },
  {
   "cell_type": "code",
   "execution_count": null,
   "metadata": {},
   "outputs": [],
   "source": [
    "def extract_texts_from_file(file_path):\n",
    "    \"\"\"\n",
    "    Extract the text data from the json file\n",
    "\n",
    "    Args:\n",
    "        file_path (str): Relative location of the json file in the project.\n",
    "\n",
    "    Returns:\n",
    "        list: The list of texts as strings.\n",
    "    \"\"\"\n",
    "    return None \n",
    "\n",
    "texts = extract_texts_from_file('resources/data.json')\n",
    "print(texts)"
   ]
  },
  {
   "cell_type": "markdown",
   "metadata": {},
   "source": [
    "## Process the texts\n",
    "\n",
    "Write a script, that would process these texts. Processing should include:\n",
    "\n",
    "- Lowercasing\n",
    "- Removing Punctuation\n",
    "- Removing Special Characters and Numbers\n",
    "- Stemming or Lemmatization\n",
    "- Handling Abbreviations\n",
    "- Spelling Correction"
   ]
  },
  {
   "cell_type": "code",
   "execution_count": null,
   "metadata": {},
   "outputs": [],
   "source": [
    "def process_texts(texts):\n",
    "    \"\"\"\n",
    "    Process the texts\n",
    "\n",
    "    Args:\n",
    "        texts (list): list of str texts to be processed.\n",
    "\n",
    "    Returns:\n",
    "        list: The list of texts as strings processed by script.\n",
    "    \"\"\"\n",
    "    return None \n",
    "\n",
    "texts_processed = process_texts(texts)\n",
    "print(texts_processed)"
   ]
  },
  {
   "cell_type": "markdown",
   "metadata": {},
   "source": [
    "## Visualize as cloud of words\n",
    "\n",
    "Visualize the texts as a cloud of words."
   ]
  },
  {
   "cell_type": "code",
   "execution_count": null,
   "metadata": {},
   "outputs": [],
   "source": [
    "def visualize_texts(texts_processed):\n",
    "    \"\"\"\n",
    "    Visualize the texts as cloud of words\n",
    "\n",
    "    Args:\n",
    "        texts_processed (list): list of texts, processed in previous task.\n",
    "\n",
    "    Returns:\n",
    "        None: None.\n",
    "    \"\"\"\n",
    "    return None\n",
    "\n",
    "visualize_texts(texts_processed)"
   ]
  },
  {
   "cell_type": "markdown",
   "metadata": {},
   "source": [
    "## Calculate cosine similarities using TFIDF\n",
    "\n",
    "Calculate the TFIDF score and cosine similarity between the texts. You may use gensim, write your own script using numpy or use other module. Output the result as a matrix $n\\times n$ of cosine similarity scores (where $n$ is the length of texts list).\n",
    "\n",
    "**Extra credit**: use word2vec word embeddings in vector spaces to get better TFIDF scores by representing each word as a vector."
   ]
  },
  {
   "cell_type": "code",
   "execution_count": null,
   "metadata": {},
   "outputs": [],
   "source": [
    "def calcuate_tfidf(texts_processed):\n",
    "    \"\"\"\n",
    "    Calculate TFIDF score between the texts in the list.\n",
    "\n",
    "    Args:\n",
    "        texts_processed (list): list of texts, processed in previous task.\n",
    "\n",
    "    Returns:\n",
    "        cosine_matrix (list): a matrix of cosine similarity scores.\n",
    "    \"\"\"\n",
    "    return None\n",
    "\n",
    "cosine_matrix = calcuate_tfidf(texts_processed)\n",
    "print(cosine_matrix)"
   ]
  },
  {
   "cell_type": "markdown",
   "metadata": {},
   "source": [
    "## Visualize data\n",
    "\n",
    "Visualize the `cosine_matrix` data using matplotlib. Choose your own method of plotting the scores in a way, that the similarity indeces between texts would be instantly visible. Plot data about texts as well (a couple of first words in the document).\n",
    "\n",
    "*Hint: remember heat maps, aren't they nice for this task?*"
   ]
  },
  {
   "cell_type": "code",
   "execution_count": null,
   "metadata": {},
   "outputs": [],
   "source": [
    "def visualize_data(cosine_matrix, texts_processed):\n",
    "    \"\"\"\n",
    "    Visualize the cosine similarity matrix from the previous task. \n",
    "\n",
    "    Args:\n",
    "        cosine_matrix (list): matrix of cosine similarity scores (values from 0.0 to 1.0 expected).\n",
    "        texts_processed (list): list of texts, processed in previous task.\n",
    "\n",
    "    Returns:\n",
    "        None: None.\n",
    "    \"\"\"\n",
    "    return None\n",
    "\n",
    "visualize_data(cosine_matrix, texts_processed)"
   ]
  },
  {
   "cell_type": "markdown",
   "metadata": {},
   "source": [
    "## Analyse your own text using TFIDF (or any other method)\n",
    "\n",
    "Analyse your own text using previous methods. You may use API fetching to get text data, download texts from Kaggle or use any texts you want. Find cosine similarities and visualize them."
   ]
  },
  {
   "cell_type": "code",
   "execution_count": null,
   "metadata": {},
   "outputs": [],
   "source": [
    "def get_texts():\n",
    "    \"\"\"\n",
    "    Get the texts you want to analyse. Either API fetching, Kaggle or any other source.\n",
    "\n",
    "    Args:\n",
    "        None: None.\n",
    "\n",
    "    Returns:\n",
    "        list: list of texts.\n",
    "    \"\"\"\n",
    "    return None\n",
    "\n",
    "texts = get_texts()\n",
    "texts_processed = process_texts(texts)\n",
    "visualize_texts(texts_processed)\n",
    "cosine_matrix = calcuate_tfidf(texts_processed)\n",
    "visualize_data(cosine_matrix, texts_processed)"
   ]
  }
 ],
 "metadata": {
  "kernelspec": {
   "display_name": "Python 3",
   "language": "python",
   "name": "python3"
  },
  "language_info": {
   "codemirror_mode": {
    "name": "ipython",
    "version": 3
   },
   "file_extension": ".py",
   "mimetype": "text/x-python",
   "name": "python",
   "nbconvert_exporter": "python",
   "pygments_lexer": "ipython3",
   "version": "3.10.0"
  }
 },
 "nbformat": 4,
 "nbformat_minor": 2
}
